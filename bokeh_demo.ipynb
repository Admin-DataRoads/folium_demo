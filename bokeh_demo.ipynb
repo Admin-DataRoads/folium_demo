{
 "cells": [
  {
   "cell_type": "markdown",
   "metadata": {},
   "source": [
    "## Bokeh Demo"
   ]
  },
  {
   "cell_type": "markdown",
   "metadata": {},
   "source": [
    "https://bokeh.pydata.org/en/latest/"
   ]
  },
  {
   "cell_type": "markdown",
   "metadata": {},
   "source": [
    "Interactive visualization with Python, designed for web browsers! Explore the gallery for more examples: https://bokeh.pydata.org/en/latest/docs/gallery.html#gallery"
   ]
  },
  {
   "cell_type": "markdown",
   "metadata": {},
   "source": [
    "The basic steps to creating plots with the bokeh.plotting interface are:\n",
    "\n",
    " * Prepare some data\n",
    "  * Can be plain python lists, NumPy arrays, or Pandas series.\n",
    " * Tell Bokeh where to generate output\n",
    "  * can use output_file() or output_notebook() for use in Jupyter notebooks.\n",
    " * Call figure()\n",
    "  * This creates a plot with typical default options and easy customization of title, tools, and axes labels.\n",
    " * Add renderers\n",
    "  * In this case, we use line() for our data, specifying visual customizations like colors, legends and widths.\n",
    " * Ask Bokeh to show() or save() the results.\n",
    "  * These functions save the plot to an HTML file and optionally display it in a browser.\n"
   ]
  },
  {
   "cell_type": "markdown",
   "metadata": {},
   "source": [
    "Bokeh can also be used to create map-based visualizations. In this tutorial we will use Google Maps API."
   ]
  },
  {
   "cell_type": "markdown",
   "metadata": {},
   "source": [
    "First things first: we're going to need a Google Maps Developer key. Sign up for one here: https://developers.google.com/maps/documentation/javascript/get-api-key"
   ]
  },
  {
   "cell_type": "markdown",
   "metadata": {},
   "source": [
    "Save your API key somewhere secure - you're going to need it soon."
   ]
  },
  {
   "cell_type": "markdown",
   "metadata": {},
   "source": [
    "Now, we import our dataset into a pandas dataframe."
   ]
  },
  {
   "cell_type": "code",
   "execution_count": 2,
   "metadata": {
    "collapsed": true
   },
   "outputs": [],
   "source": [
    "import pandas as pd"
   ]
  },
  {
   "cell_type": "code",
   "execution_count": 3,
   "metadata": {
    "collapsed": true
   },
   "outputs": [],
   "source": [
    "data = pd.read_csv('./data/metadata.csv') "
   ]
  },
  {
   "cell_type": "code",
   "execution_count": 4,
   "metadata": {
    "collapsed": false
   },
   "outputs": [
    {
     "data": {
      "text/html": [
       "<div>\n",
       "<table border=\"1\" class=\"dataframe\">\n",
       "  <thead>\n",
       "    <tr style=\"text-align: right;\">\n",
       "      <th></th>\n",
       "      <th>Cell Cgi</th>\n",
       "      <th>Cell Tower Location</th>\n",
       "      <th>Comm Identifier</th>\n",
       "      <th>Comm Timedate String</th>\n",
       "      <th>Comm Type</th>\n",
       "      <th>Latitude</th>\n",
       "      <th>Longitude</th>\n",
       "    </tr>\n",
       "  </thead>\n",
       "  <tbody>\n",
       "    <tr>\n",
       "      <th>0</th>\n",
       "      <td>50501015388B9</td>\n",
       "      <td>REDFERN TE</td>\n",
       "      <td>f1a6836c0b7a3415a19a90fdd6f0ae18484d6d1e</td>\n",
       "      <td>4/1/14 9:40</td>\n",
       "      <td>Phone</td>\n",
       "      <td>-33.892933</td>\n",
       "      <td>151.202296</td>\n",
       "    </tr>\n",
       "    <tr>\n",
       "      <th>1</th>\n",
       "      <td>50501015388B9</td>\n",
       "      <td>REDFERN TE</td>\n",
       "      <td>62157ccf2910019ffd915b11fa037243b75c1624</td>\n",
       "      <td>4/1/14 9:42</td>\n",
       "      <td>Phone</td>\n",
       "      <td>-33.892933</td>\n",
       "      <td>151.202296</td>\n",
       "    </tr>\n",
       "    <tr>\n",
       "      <th>2</th>\n",
       "      <td>505010153111F</td>\n",
       "      <td>HAYMARKET #</td>\n",
       "      <td>c8f92bd0f4e6fb45ed7fce96fc831b283db2b642</td>\n",
       "      <td>4/1/14 13:13</td>\n",
       "      <td>Phone</td>\n",
       "      <td>-33.880329</td>\n",
       "      <td>151.205690</td>\n",
       "    </tr>\n",
       "    <tr>\n",
       "      <th>3</th>\n",
       "      <td>505010153111F</td>\n",
       "      <td>HAYMARKET #</td>\n",
       "      <td>f1a6836c0b7a3415a19a90fdd6f0ae18484d6d1e</td>\n",
       "      <td>4/1/14 13:13</td>\n",
       "      <td>Phone</td>\n",
       "      <td>-33.880329</td>\n",
       "      <td>151.205690</td>\n",
       "    </tr>\n",
       "    <tr>\n",
       "      <th>4</th>\n",
       "      <td>5.05E+106</td>\n",
       "      <td>HAYMARKET #</td>\n",
       "      <td>f1a6836c0b7a3415a19a90fdd6f0ae18484d6d1e</td>\n",
       "      <td>4/1/14 17:27</td>\n",
       "      <td>Phone</td>\n",
       "      <td>-33.880329</td>\n",
       "      <td>151.205690</td>\n",
       "    </tr>\n",
       "  </tbody>\n",
       "</table>\n",
       "</div>"
      ],
      "text/plain": [
       "        Cell Cgi Cell Tower Location  \\\n",
       "0  50501015388B9          REDFERN TE   \n",
       "1  50501015388B9          REDFERN TE   \n",
       "2  505010153111F         HAYMARKET #   \n",
       "3  505010153111F         HAYMARKET #   \n",
       "4      5.05E+106         HAYMARKET #   \n",
       "\n",
       "                            Comm Identifier Comm Timedate String Comm Type  \\\n",
       "0  f1a6836c0b7a3415a19a90fdd6f0ae18484d6d1e          4/1/14 9:40     Phone   \n",
       "1  62157ccf2910019ffd915b11fa037243b75c1624          4/1/14 9:42     Phone   \n",
       "2  c8f92bd0f4e6fb45ed7fce96fc831b283db2b642         4/1/14 13:13     Phone   \n",
       "3  f1a6836c0b7a3415a19a90fdd6f0ae18484d6d1e         4/1/14 13:13     Phone   \n",
       "4  f1a6836c0b7a3415a19a90fdd6f0ae18484d6d1e         4/1/14 17:27     Phone   \n",
       "\n",
       "    Latitude   Longitude  \n",
       "0 -33.892933  151.202296  \n",
       "1 -33.892933  151.202296  \n",
       "2 -33.880329  151.205690  \n",
       "3 -33.880329  151.205690  \n",
       "4 -33.880329  151.205690  "
      ]
     },
     "execution_count": 4,
     "metadata": {},
     "output_type": "execute_result"
    }
   ],
   "source": [
    "data.head()"
   ]
  },
  {
   "cell_type": "markdown",
   "metadata": {},
   "source": [
    "Install bokeh and import packages: "
   ]
  },
  {
   "cell_type": "code",
   "execution_count": 5,
   "metadata": {
    "collapsed": true
   },
   "outputs": [
    {
     "name": "stdout",
     "output_type": "stream",
     "text": [
      "Requirement already satisfied: bokeh in /Users/emmafreeman/anaconda3/lib/python3.6/site-packages\n",
      "\u001b[33mYou are using pip version 9.0.3, however version 10.0.1 is available.\n",
      "You should consider upgrading via the 'pip install --upgrade pip' command.\u001b[0m\n"
     ]
    }
   ],
   "source": [
    "!pip install bokeh"
   ]
  },
  {
   "cell_type": "code",
   "execution_count": 6,
   "metadata": {
    "collapsed": true
   },
   "outputs": [],
   "source": [
    "from bokeh.io import output_file, show, save, curdoc\n",
    "from bokeh.models import (\n",
    "  GMapPlot, GMapOptions, ColumnDataSource, Circle, Range1d, PanTool, \n",
    "    WheelZoomTool, BoxSelectTool, LinearColorMapper, ContinuousColorMapper, HoverTool,\n",
    "    Plot, Circle, LinearAxis, Text,\n",
    "    SingleIntervalTicker, Slider, CustomJS, Select\n",
    ")\n",
    "from bokeh.palettes import Blues9 as blu\n",
    "from bokeh.layouts import column, row, widgetbox\n",
    "from bokeh.models.widgets import Slider"
   ]
  },
  {
   "cell_type": "code",
   "execution_count": 8,
   "metadata": {
    "collapsed": false
   },
   "outputs": [
    {
     "data": {
      "text/plain": [
       "Index(['Cell Cgi', 'Cell Tower Location', 'Comm Identifier',\n",
       "       'Comm Timedate String', 'Comm Type', 'Latitude', 'Longitude'],\n",
       "      dtype='object')"
      ]
     },
     "execution_count": 8,
     "metadata": {},
     "output_type": "execute_result"
    }
   ],
   "source": [
    "data.columns"
   ]
  },
  {
   "cell_type": "code",
   "execution_count": 12,
   "metadata": {
    "collapsed": true
   },
   "outputs": [],
   "source": [
    "# set the data source - we'll pick certain columns from the dataframe that we want to visualize on a map\n",
    "\n",
    "source = ColumnDataSource(data={\n",
    "    'long'  : data['Longitude'],\n",
    "    'lat'   : data['Latitude'],\n",
    "    'loc': data['Cell Tower Location'],\n",
    "    'timedate': data['Comm Timedate String'],\n",
    "    'type': data['Comm Type']\n",
    "})"
   ]
  },
  {
   "cell_type": "code",
   "execution_count": 13,
   "metadata": {
    "collapsed": false
   },
   "outputs": [
    {
     "data": {
      "text/html": [
       "<div>\n",
       "<table border=\"1\" class=\"dataframe\">\n",
       "  <thead>\n",
       "    <tr style=\"text-align: right;\">\n",
       "      <th></th>\n",
       "      <th>Latitude</th>\n",
       "      <th>Longitude</th>\n",
       "    </tr>\n",
       "  </thead>\n",
       "  <tbody>\n",
       "    <tr>\n",
       "      <th>count</th>\n",
       "      <td>10476.000000</td>\n",
       "      <td>10476.000000</td>\n",
       "    </tr>\n",
       "    <tr>\n",
       "      <th>mean</th>\n",
       "      <td>-35.136188</td>\n",
       "      <td>150.612841</td>\n",
       "    </tr>\n",
       "    <tr>\n",
       "      <th>std</th>\n",
       "      <td>3.141723</td>\n",
       "      <td>1.470169</td>\n",
       "    </tr>\n",
       "    <tr>\n",
       "      <th>min</th>\n",
       "      <td>-42.884810</td>\n",
       "      <td>144.848243</td>\n",
       "    </tr>\n",
       "    <tr>\n",
       "      <th>25%</th>\n",
       "      <td>-33.884603</td>\n",
       "      <td>151.202296</td>\n",
       "    </tr>\n",
       "    <tr>\n",
       "      <th>50%</th>\n",
       "      <td>-33.796610</td>\n",
       "      <td>151.266540</td>\n",
       "    </tr>\n",
       "    <tr>\n",
       "      <th>75%</th>\n",
       "      <td>-33.788150</td>\n",
       "      <td>151.266540</td>\n",
       "    </tr>\n",
       "    <tr>\n",
       "      <th>max</th>\n",
       "      <td>-33.557310</td>\n",
       "      <td>151.289340</td>\n",
       "    </tr>\n",
       "  </tbody>\n",
       "</table>\n",
       "</div>"
      ],
      "text/plain": [
       "           Latitude     Longitude\n",
       "count  10476.000000  10476.000000\n",
       "mean     -35.136188    150.612841\n",
       "std        3.141723      1.470169\n",
       "min      -42.884810    144.848243\n",
       "25%      -33.884603    151.202296\n",
       "50%      -33.796610    151.266540\n",
       "75%      -33.788150    151.266540\n",
       "max      -33.557310    151.289340"
      ]
     },
     "execution_count": 13,
     "metadata": {},
     "output_type": "execute_result"
    }
   ],
   "source": [
    "# let's see what the lats and longs look like, to determine where to locate our map\n",
    "\n",
    "data.describe()"
   ]
  },
  {
   "cell_type": "code",
   "execution_count": 14,
   "metadata": {
    "collapsed": true
   },
   "outputs": [],
   "source": [
    "# set map options - lat and long is in the center so we'll start with about halfway between the min and max\n",
    "\n",
    "map_options = GMapOptions(lat=-38, lng=148, map_type=\"roadmap\", zoom=16)"
   ]
  },
  {
   "cell_type": "code",
   "execution_count": 9,
   "metadata": {
    "collapsed": false
   },
   "outputs": [
    {
     "ename": "NameError",
     "evalue": "name 'hours_aps_ord' is not defined",
     "output_type": "error",
     "traceback": [
      "\u001b[0;31m---------------------------------------------------------------------------\u001b[0m",
      "\u001b[0;31mNameError\u001b[0m                                 Traceback (most recent call last)",
      "\u001b[0;32m<ipython-input-9-266c95df966f>\u001b[0m in \u001b[0;36m<module>\u001b[0;34m()\u001b[0m\n\u001b[1;32m     19\u001b[0m mapper = LogColorMapper(\n\u001b[1;32m     20\u001b[0m     \u001b[0mpalette\u001b[0m\u001b[0;34m=\u001b[0m\u001b[0mblu\u001b[0m\u001b[0;34m,\u001b[0m\u001b[0;34m\u001b[0m\u001b[0m\n\u001b[0;32m---> 21\u001b[0;31m     \u001b[0mlow\u001b[0m\u001b[0;34m=\u001b[0m\u001b[0mhours_aps_ord\u001b[0m\u001b[0;34m.\u001b[0m\u001b[0mavg_time_client\u001b[0m\u001b[0;34m.\u001b[0m\u001b[0mmin\u001b[0m\u001b[0;34m(\u001b[0m\u001b[0;34m)\u001b[0m\u001b[0;34m,\u001b[0m\u001b[0;34m\u001b[0m\u001b[0m\n\u001b[0m\u001b[1;32m     22\u001b[0m     \u001b[0mhigh\u001b[0m\u001b[0;34m=\u001b[0m\u001b[0mhours_aps_ord\u001b[0m\u001b[0;34m.\u001b[0m\u001b[0mavg_time_client\u001b[0m\u001b[0;34m.\u001b[0m\u001b[0mmax\u001b[0m\u001b[0;34m(\u001b[0m\u001b[0;34m)\u001b[0m\u001b[0;34m\u001b[0m\u001b[0m\n\u001b[1;32m     23\u001b[0m )\n",
      "\u001b[0;31mNameError\u001b[0m: name 'hours_aps_ord' is not defined"
     ]
    }
   ],
   "source": [
    "# initiate our plot with the map options we just defined\n",
    "\n",
    "plot = GMapPlot(x_range=Range1d(), y_range=Range1d(), \n",
    "                map_options=map_options, plot_width=900, plot_height=800)\n",
    "\n",
    "plot.title.text = \"cell tower data\"\n",
    "\n",
    "# FILL IN YOUR API KEY HERE! OR BETTER YET - SAVE IT IN AN EXTERNAL FILE (IN THE SAME FOLDER) AND REFERENCE HERE\n",
    "plot.api_key = './my_google_key' \n",
    "\n",
    "# map colors to comm type\n",
    "mapper = ContinuousColorMapper(\n",
    "    palette=blu,\n",
    "    # set colors/use with data['type']\n",
    ")\n",
    "\n",
    "# define circles\n",
    "circle = Circle(x=\"long\", y=\"lat\", size='' # some count, \n",
    "                fill_color={'field': '', 'transform': mapper}, \n",
    "                fill_alpha=1, line_color=None)\n",
    "\n",
    "# add circles and source to plot\n",
    "plot.add_glyph(source, circle)\n",
    "\n",
    "# add interactive tools to plot\n",
    "hover = HoverTool(tooltips=[(\"datetime\", '@datetime'), \n",
    "                    (\"location\", '@loc')],\n",
    "                    )\n",
    "\n",
    "plot.add_tools(PanTool(), WheelZoomTool(), BoxSelectTool(), hover)\n",
    "\n",
    "\n",
    "# Make a slider object\n",
    "slider = Slider(start=0, end=23, value=0, step=1, title=\"Time\")\n",
    "\n",
    "# make a dropdown object\n",
    "select = Select(\n",
    "    options=['Monday', 'Tuesday', 'Wednesday', 'Thursday', 'Friday', 'Saturday', 'Sunday'], \n",
    "    value='Monday', title=\"Day\")\n",
    "\n",
    "\n",
    "# Define the callback function\n",
    "def update_plot(attr, old, new):\n",
    "    new_h = slider.value\n",
    "    new_hour = {\n",
    "             'long'  : hours_aps_ord.loc[hours_aps_ord['hour']==new_h].long,\n",
    "             'lat'   : hours_aps_ord.loc[hours_aps_ord['hour']==new_h].lat,\n",
    "             'clients' : hours_aps_ord.loc[hours_aps_ord['hour']==new_h].client_mac_address,\n",
    "             'size': hours_aps_ord.loc[hours_aps_ord['hour']==new_h].client_mac_address_sized,\n",
    "             'time': hours_aps_ord.loc[hours_aps_ord['hour']==new_h].session_time_m,\n",
    "             'ap': hours_aps_ord.loc[hours_aps_ord['hour']==new_h].ap_mac,\n",
    "             'avg_time': hours_aps_ord.loc[hours_aps_ord['hour']==new_h].avg_time_client\n",
    "         }\n",
    "\n",
    "   \n",
    "    source.data = new_hour\n",
    "    \n",
    "# Attach the callback to the 'value' property of slider\n",
    "slider.on_change('value', update_plot)\n",
    "\n",
    "def callack(attr, old, new):\n",
    "    if new == 'Monday': \n",
    "        source.data = {\n",
    "             'long'  : hours_aps_ord.loc[hours_aps_ord['date']==22].long,\n",
    "             'lat'   : hours_aps_ord.loc[hours_aps_ord['date']==22].lat,\n",
    "             'clients' : hours_aps_ord.loc[hours_aps_ord['date']==22].client_mac_address,\n",
    "             'size': hours_aps_ord.loc[hours_aps_ord['date']==22].client_mac_address_sized,\n",
    "             'time': hours_aps_ord.loc[hours_aps_ord['date']==22].session_time_m,\n",
    "             'ap': hours_aps_ord.loc[hours_aps_ord['date']==22].ap_mac,\n",
    "             'avg_time': hours_aps_ord.loc[hours_aps_ord['date']==22].avg_time_client\n",
    "        }\n",
    "    elif new == 'Tuesday': \n",
    "        source.data = {\n",
    "             'long'  : hours_aps_ord.loc[hours_aps_ord['date']==23].long,\n",
    "             'lat'   : hours_aps_ord.loc[hours_aps_ord['date']==23].lat,\n",
    "             'clients' : hours_aps_ord.loc[hours_aps_ord['date']==23].client_mac_address,\n",
    "             'size': hours_aps_ord.loc[hours_aps_ord['date']==23].client_mac_address_sized,\n",
    "             'time': hours_aps_ord.loc[hours_aps_ord['date']==23].session_time_m,\n",
    "             'ap': hours_aps_ord.loc[hours_aps_ord['date']==23].ap_mac,\n",
    "             'avg_time': hours_aps_ord.loc[hours_aps_ord['date']==23].avg_time_client\n",
    "        }\n",
    "    elif new == 'Wednesday': \n",
    "        source.data = {\n",
    "             'long'  : hours_aps_ord.loc[hours_aps_ord['date']==24].long,\n",
    "             'lat'   : hours_aps_ord.loc[hours_aps_ord['date']==24].lat,\n",
    "             'clients' : hours_aps_ord.loc[hours_aps_ord['date']==24].client_mac_address,\n",
    "             'size': hours_aps_ord.loc[hours_aps_ord['date']==24].client_mac_address_sized,\n",
    "             'time': hours_aps_ord.loc[hours_aps_ord['date']==24].session_time_m,\n",
    "             'ap': hours_aps_ord.loc[hours_aps_ord['date']==24].ap_mac,\n",
    "             'avg_time': hours_aps_ord.loc[hours_aps_ord['date']==24].avg_time_client\n",
    "        }\n",
    "    elif new == 'Thursday': \n",
    "        source.data = {\n",
    "             'long'  : hours_aps_ord.loc[hours_aps_ord['date']==25].long,\n",
    "             'lat'   : hours_aps_ord.loc[hours_aps_ord['date']==25].lat,\n",
    "             'clients' : hours_aps_ord.loc[hours_aps_ord['date']==25].client_mac_address,\n",
    "             'size': hours_aps_ord.loc[hours_aps_ord['date']==25].client_mac_address_sized,\n",
    "             'time': hours_aps_ord.loc[hours_aps_ord['date']==25].session_time_m,\n",
    "             'ap': hours_aps_ord.loc[hours_aps_ord['date']==25].ap_mac,\n",
    "             'avg_time': hours_aps_ord.loc[hours_aps_ord['date']==25].avg_time_client\n",
    "        }\n",
    "    elif new == 'Friday': \n",
    "        source.data = {\n",
    "             'long'  : hours_aps_ord.loc[hours_aps_ord['date']==19].long,\n",
    "             'lat'   : hours_aps_ord.loc[hours_aps_ord['date']==19].lat,\n",
    "             'clients' : hours_aps_ord.loc[hours_aps_ord['date']==19].client_mac_address,\n",
    "             'size': hours_aps_ord.loc[hours_aps_ord['date']==19].client_mac_address_sized,\n",
    "             'time': hours_aps_ord.loc[hours_aps_ord['date']==19].session_time_m,\n",
    "             'ap': hours_aps_ord.loc[hours_aps_ord['date']==19].ap_mac,\n",
    "             'avg_time': hours_aps_ord.loc[hours_aps_ord['date']==19].avg_time_client\n",
    "        }\n",
    "    elif new == 'Saturday': \n",
    "        source.data = {\n",
    "             'long'  : hours_aps_ord.loc[hours_aps_ord['date']==20].long,\n",
    "             'lat'   : hours_aps_ord.loc[hours_aps_ord['date']==20].lat,\n",
    "             'clients' : hours_aps_ord.loc[hours_aps_ord['date']==20].client_mac_address,\n",
    "             'size': hours_aps_ord.loc[hours_aps_ord['date']==20].client_mac_address_sized,\n",
    "             'time': hours_aps_ord.loc[hours_aps_ord['date']==20].session_time_m,\n",
    "             'ap': hours_aps_ord.loc[hours_aps_ord['date']==20].ap_mac,\n",
    "             'avg_time': hours_aps_ord.loc[hours_aps_ord['date']==20].avg_time_client\n",
    "        }\n",
    "    else:\n",
    "        source.data = {\n",
    "             'long'  : hours_aps_ord.loc[hours_aps_ord['date']==21].long,\n",
    "             'lat'   : hours_aps_ord.loc[hours_aps_ord['date']==21].lat,\n",
    "             'clients' : hours_aps_ord.loc[hours_aps_ord['date']==21].client_mac_address,\n",
    "             'size': hours_aps_ord.loc[hours_aps_ord['date']==21].client_mac_address_sized,\n",
    "             'time': hours_aps_ord.loc[hours_aps_ord['date']==21].session_time_m,\n",
    "             'ap': hours_aps_ord.loc[hours_aps_ord['date']==21].ap_mac,\n",
    "             'avg_time': hours_aps_ord.loc[hours_aps_ord['date']==21].avg_time_client\n",
    "        }\n",
    "\n",
    "select.on_change('value', callack)\n",
    "\n",
    "# Make a layout of slider and plot and add it to the current document\n",
    "layout = column(plot, select, slider)\n",
    "curdoc().add_root(layout)"
   ]
  },
  {
   "cell_type": "code",
   "execution_count": null,
   "metadata": {
    "collapsed": true
   },
   "outputs": [],
   "source": []
  }
 ],
 "metadata": {
  "kernelspec": {
   "display_name": "Python 3",
   "language": "python",
   "name": "python3"
  },
  "language_info": {
   "codemirror_mode": {
    "name": "ipython",
    "version": 3
   },
   "file_extension": ".py",
   "mimetype": "text/x-python",
   "name": "python",
   "nbconvert_exporter": "python",
   "pygments_lexer": "ipython3",
   "version": "3.6.0"
  }
 },
 "nbformat": 4,
 "nbformat_minor": 2
}
