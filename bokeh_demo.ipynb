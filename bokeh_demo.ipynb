{
 "cells": [
  {
   "cell_type": "markdown",
   "metadata": {},
   "source": [
    "## Bokeh Demo"
   ]
  },
  {
   "cell_type": "markdown",
   "metadata": {},
   "source": [
    "https://bokeh.pydata.org/en/latest/"
   ]
  },
  {
   "cell_type": "markdown",
   "metadata": {},
   "source": [
    "Examples: https://bokeh.pydata.org/en/latest/docs/gallery.html"
   ]
  },
  {
   "cell_type": "markdown",
   "metadata": {},
   "source": [
    "## What is Bokeh\n",
    "\n",
    "Bokeh is an interactive visualization library that targets modern web browsers for presentation. It is good for:\n",
    "\n",
    "* Interactive visualization in modern browsers\n",
    "* Standalone HTML documents, or server-backed apps\n",
    "* Expressive and versatile graphics\n",
    "* Large, dynamic or streaming data\n",
    "* Easy usage from python (or Scala, or R, or...)\n",
    "\n",
    "And most importantly:\n",
    "\n",
    "## <center><i>NO JAVASCRIPT REQUIRED</i></center>\n",
    "\n",
    "The goal of Bokeh is to provide elegant, concise construction of novel graphics in the style of D3.js, from the comfort of high level languages such as Python, and to extend this capability with high-performance interactivity over very large or streaming datasets. Bokeh can help anyone who would like to quickly and easily create interactive plots, dashboards, and data applications."
   ]
  },
  {
   "cell_type": "markdown",
   "metadata": {},
   "source": [
    "#### The basic steps to creating plots with the bokeh.plotting interface are:\n",
    "\n",
    " * Prepare some data\n",
    "  * Can be plain python lists, NumPy arrays, or Pandas series.\n",
    " * Tell Bokeh where to generate output\n",
    "  * can use output_file() or output_notebook() for use in Jupyter notebooks.\n",
    " * Call figure()\n",
    "  * This creates a plot with typical default options and easy customization of title, tools, and axes labels.\n",
    "  * Here, we use GMapPlot\n",
    " * Add renderers\n",
    "  * In this case, we use source() for our data, specifying visual customizations like colors, legends and widths.\n",
    "  * We also add other features like a slider, hovertips, and a dropdown.\n",
    " * Ask Bokeh to show() or save() the results.\n",
    "  * These functions save the plot to an HTML file and optionally display it - with interactivity -  in a browser."
   ]
  },
  {
   "cell_type": "markdown",
   "metadata": {},
   "source": [
    "Bokeh can also be used to create map-based visualizations. In this tutorial we will use the Google Maps API to visualize our data on top of Google Maps, using bokeh's GMapPlot."
   ]
  },
  {
   "cell_type": "markdown",
   "metadata": {},
   "source": [
    "First things first: we're going to need a Google Maps Developer key. Sign up for one here: https://developers.google.com/maps/documentation/javascript/get-api-key"
   ]
  },
  {
   "cell_type": "markdown",
   "metadata": {},
   "source": [
    "Save your API key somewhere secure - you're going to need it soon."
   ]
  },
  {
   "cell_type": "markdown",
   "metadata": {},
   "source": [
    "Now, we import our dataset into a pandas dataframe. Since we already did some data exploration in the previous tutorial, we'll get right to creating the visualization."
   ]
  },
  {
   "cell_type": "code",
   "execution_count": 1,
   "metadata": {},
   "outputs": [],
   "source": [
    "import pandas as pd"
   ]
  },
  {
   "cell_type": "code",
   "execution_count": 2,
   "metadata": {},
   "outputs": [],
   "source": [
    "data = pd.read_csv('./data/metadata.csv') "
   ]
  },
  {
   "cell_type": "code",
   "execution_count": 3,
   "metadata": {},
   "outputs": [
    {
     "name": "stdout",
     "output_type": "stream",
     "text": [
      "<class 'pandas.core.frame.DataFrame'>\n",
      "RangeIndex: 10476 entries, 0 to 10475\n",
      "Data columns (total 7 columns):\n",
      "Cell Cgi                10476 non-null object\n",
      "Cell Tower Location     10476 non-null object\n",
      "Comm Identifier         1374 non-null object\n",
      "Comm Timedate String    10476 non-null object\n",
      "Comm Type               10476 non-null object\n",
      "Latitude                10476 non-null float64\n",
      "Longitude               10476 non-null float64\n",
      "dtypes: float64(2), object(5)\n",
      "memory usage: 573.0+ KB\n"
     ]
    }
   ],
   "source": [
    "data.info()"
   ]
  },
  {
   "cell_type": "code",
   "execution_count": 5,
   "metadata": {},
   "outputs": [],
   "source": [
    "# we want an actual datetime \n",
    "data['Comm Timedate String'] = pd.to_datetime(data['Comm Timedate String'])"
   ]
  },
  {
   "cell_type": "code",
   "execution_count": 6,
   "metadata": {},
   "outputs": [],
   "source": [
    "# now we'll grab the hour as separate column\n",
    "data['hour'] = data['Comm Timedate String'].apply(lambda x: x.hour)"
   ]
  },
  {
   "cell_type": "code",
   "execution_count": 7,
   "metadata": {},
   "outputs": [],
   "source": [
    "# for our map, we'll select just a few days in our dataset to make it more manageable\n",
    "data = data[(data['Comm Timedate String'] > '9/23/14 00:00') & (data['Comm Timedate String'] < '9/26/14 00:00')]"
   ]
  },
  {
   "cell_type": "code",
   "execution_count": 8,
   "metadata": {},
   "outputs": [],
   "source": [
    "# create a date column\n",
    "data['date'] = data['Comm Timedate String'].dt.strftime('%d')"
   ]
  },
  {
   "cell_type": "code",
   "execution_count": 9,
   "metadata": {},
   "outputs": [
    {
     "name": "stdout",
     "output_type": "stream",
     "text": [
      "<class 'pandas.core.frame.DataFrame'>\n",
      "Int64Index: 107 entries, 665 to 771\n",
      "Data columns (total 9 columns):\n",
      "Cell Cgi                107 non-null object\n",
      "Cell Tower Location     107 non-null object\n",
      "Comm Identifier         9 non-null object\n",
      "Comm Timedate String    107 non-null datetime64[ns]\n",
      "Comm Type               107 non-null object\n",
      "Latitude                107 non-null float64\n",
      "Longitude               107 non-null float64\n",
      "hour                    107 non-null int64\n",
      "date                    107 non-null object\n",
      "dtypes: datetime64[ns](1), float64(2), int64(1), object(5)\n",
      "memory usage: 8.4+ KB\n"
     ]
    }
   ],
   "source": [
    "# what did we end up with?\n",
    "data.info()"
   ]
  },
  {
   "cell_type": "markdown",
   "metadata": {},
   "source": [
    "#### Looks good, let's start making the visualization!"
   ]
  },
  {
   "cell_type": "markdown",
   "metadata": {},
   "source": [
    "Install bokeh and import packages: "
   ]
  },
  {
   "cell_type": "code",
   "execution_count": null,
   "metadata": {},
   "outputs": [],
   "source": [
    "# we only have to install bokeh once\n",
    "!pip install bokeh"
   ]
  },
  {
   "cell_type": "code",
   "execution_count": 10,
   "metadata": {},
   "outputs": [],
   "source": [
    "# a bunch of packages\n",
    "from bokeh.io import output_file, show, save, curdoc\n",
    "from bokeh.models import (\n",
    "  GMapPlot, GMapOptions, ColumnDataSource, Circle, Range1d, PanTool, \n",
    "    WheelZoomTool, BoxSelectTool, LinearColorMapper, CategoricalColorMapper, HoverTool,\n",
    "    Plot, Circle, LinearAxis, Text,\n",
    "    SingleIntervalTicker, Slider, CustomJS, Select, Slider\n",
    ")\n",
    "from bokeh.palettes import Spectral6\n",
    "from bokeh.layouts import column, row, widgetbox\n",
    "from bokeh.models.widgets import Slider, Select"
   ]
  },
  {
   "cell_type": "code",
   "execution_count": 11,
   "metadata": {},
   "outputs": [],
   "source": [
    "# set the data source - we'll pick certain columns from the dataframe that we want to visualize on a map\n",
    "source = ColumnDataSource(data=\n",
    "    {'long' : data['Longitude'],\n",
    "    'lat'  : data['Latitude'],\n",
    "    'loc': data['Cell Tower Location'],\n",
    "    'type': data['Comm Type'],\n",
    "    'hour': data['hour'],\n",
    "    'date': data['date']\n",
    "    })"
   ]
  },
  {
   "cell_type": "code",
   "execution_count": 12,
   "metadata": {},
   "outputs": [],
   "source": [
    "# set map options - we're going to cheat and use the lat and long for Sydney, AU since we already know where it is\n",
    "# this set's the coordinates for the center of the map\n",
    "\n",
    "map_options = GMapOptions(lat=-33.865, lng=151.216, map_type=\"roadmap\", zoom=12) \n"
   ]
  },
  {
   "cell_type": "code",
   "execution_count": 13,
   "metadata": {},
   "outputs": [],
   "source": [
    "# initiate our plot with the map options we just defined using GMapPlot\n",
    "\n",
    "plot = GMapPlot(x_range=Range1d(), y_range=Range1d(), \n",
    "                map_options=map_options, plot_width=600, plot_height=700)\n",
    "\n",
    "plot.title.text = \"cell tower data\""
   ]
  },
  {
   "cell_type": "code",
   "execution_count": 14,
   "metadata": {},
   "outputs": [],
   "source": [
    "# FILL IN YOUR API KEY HERE! \n",
    "plot.api_key = '<your-api_key>'"
   ]
  },
  {
   "cell_type": "code",
   "execution_count": 15,
   "metadata": {},
   "outputs": [],
   "source": [
    "# let's see what we have so far\n",
    "show(plot)"
   ]
  },
  {
   "cell_type": "markdown",
   "metadata": {},
   "source": [
    "#### Let's add some data points and tools!"
   ]
  },
  {
   "cell_type": "code",
   "execution_count": 16,
   "metadata": {},
   "outputs": [],
   "source": [
    "# map colors of the circles to comm type\n",
    "mapper = CategoricalColorMapper(\n",
    "    palette=Spectral6[::-1], # reverse the order of the color palette (so colors show up well on map)\n",
    "    factors=list(set(data['Comm Type']))\n",
    ")"
   ]
  },
  {
   "cell_type": "code",
   "execution_count": 17,
   "metadata": {},
   "outputs": [],
   "source": [
    "# define circles for location points on the map\n",
    "circle = Circle(x=\"long\", y=\"lat\", \n",
    "                fill_color={'field': 'type', 'transform': mapper}, \n",
    "                fill_alpha=1, line_color=None, size=14)"
   ]
  },
  {
   "cell_type": "code",
   "execution_count": 27,
   "metadata": {},
   "outputs": [],
   "source": [
    "# set hover tips - text to appear when the mouse hovers over a point\n",
    "hover = HoverTool(tooltips=[(\"date\", '@date'), \n",
    "                    (\"location\", '@loc')],\n",
    "                    )"
   ]
  },
  {
   "cell_type": "code",
   "execution_count": 28,
   "metadata": {},
   "outputs": [],
   "source": [
    "# add tools to the plot\n",
    "plot.add_tools(PanTool(), WheelZoomTool(), BoxSelectTool(), hover)"
   ]
  },
  {
   "cell_type": "code",
   "execution_count": 29,
   "metadata": {},
   "outputs": [
    {
     "data": {
      "text/html": [
       "<div style=\"display: table;\"><div style=\"display: table-row;\"><div style=\"display: table-cell;\"><b title=\"bokeh.models.renderers.GlyphRenderer\">GlyphRenderer</b>(</div><div style=\"display: table-cell;\">id&nbsp;=&nbsp;'0fd05e41-6da6-4a05-8ef9-3d54c697b9fd', <span id=\"2fdef558-4bfa-4919-9488-5e58348e43fc\" style=\"cursor: pointer;\">&hellip;)</span></div></div><div class=\"3edc3863-2f2a-4e90-b5de-38c0b961adb7\" style=\"display: none;\"><div style=\"display: table-cell;\"></div><div style=\"display: table-cell;\">data_source&nbsp;=&nbsp;ColumnDataSource(id='99cae18e-359e-4290-811e-ab1c53ea5a01', ...),</div></div><div class=\"3edc3863-2f2a-4e90-b5de-38c0b961adb7\" style=\"display: none;\"><div style=\"display: table-cell;\"></div><div style=\"display: table-cell;\">glyph&nbsp;=&nbsp;Circle(id='9bda67d1-d0cc-4511-801a-9192f60aed0a', ...),</div></div><div class=\"3edc3863-2f2a-4e90-b5de-38c0b961adb7\" style=\"display: none;\"><div style=\"display: table-cell;\"></div><div style=\"display: table-cell;\">hover_glyph&nbsp;=&nbsp;None,</div></div><div class=\"3edc3863-2f2a-4e90-b5de-38c0b961adb7\" style=\"display: none;\"><div style=\"display: table-cell;\"></div><div style=\"display: table-cell;\">js_event_callbacks&nbsp;=&nbsp;{},</div></div><div class=\"3edc3863-2f2a-4e90-b5de-38c0b961adb7\" style=\"display: none;\"><div style=\"display: table-cell;\"></div><div style=\"display: table-cell;\">js_property_callbacks&nbsp;=&nbsp;{},</div></div><div class=\"3edc3863-2f2a-4e90-b5de-38c0b961adb7\" style=\"display: none;\"><div style=\"display: table-cell;\"></div><div style=\"display: table-cell;\">level&nbsp;=&nbsp;'glyph',</div></div><div class=\"3edc3863-2f2a-4e90-b5de-38c0b961adb7\" style=\"display: none;\"><div style=\"display: table-cell;\"></div><div style=\"display: table-cell;\">muted&nbsp;=&nbsp;False,</div></div><div class=\"3edc3863-2f2a-4e90-b5de-38c0b961adb7\" style=\"display: none;\"><div style=\"display: table-cell;\"></div><div style=\"display: table-cell;\">muted_glyph&nbsp;=&nbsp;None,</div></div><div class=\"3edc3863-2f2a-4e90-b5de-38c0b961adb7\" style=\"display: none;\"><div style=\"display: table-cell;\"></div><div style=\"display: table-cell;\">name&nbsp;=&nbsp;None,</div></div><div class=\"3edc3863-2f2a-4e90-b5de-38c0b961adb7\" style=\"display: none;\"><div style=\"display: table-cell;\"></div><div style=\"display: table-cell;\">nonselection_glyph&nbsp;=&nbsp;'auto',</div></div><div class=\"3edc3863-2f2a-4e90-b5de-38c0b961adb7\" style=\"display: none;\"><div style=\"display: table-cell;\"></div><div style=\"display: table-cell;\">selection_glyph&nbsp;=&nbsp;'auto',</div></div><div class=\"3edc3863-2f2a-4e90-b5de-38c0b961adb7\" style=\"display: none;\"><div style=\"display: table-cell;\"></div><div style=\"display: table-cell;\">subscribed_events&nbsp;=&nbsp;[],</div></div><div class=\"3edc3863-2f2a-4e90-b5de-38c0b961adb7\" style=\"display: none;\"><div style=\"display: table-cell;\"></div><div style=\"display: table-cell;\">tags&nbsp;=&nbsp;[],</div></div><div class=\"3edc3863-2f2a-4e90-b5de-38c0b961adb7\" style=\"display: none;\"><div style=\"display: table-cell;\"></div><div style=\"display: table-cell;\">view&nbsp;=&nbsp;CDSView(id='7a6382e0-27b2-4b9b-a35f-42331bc41bd4', ...),</div></div><div class=\"3edc3863-2f2a-4e90-b5de-38c0b961adb7\" style=\"display: none;\"><div style=\"display: table-cell;\"></div><div style=\"display: table-cell;\">visible&nbsp;=&nbsp;True,</div></div><div class=\"3edc3863-2f2a-4e90-b5de-38c0b961adb7\" style=\"display: none;\"><div style=\"display: table-cell;\"></div><div style=\"display: table-cell;\">x_range_name&nbsp;=&nbsp;'default',</div></div><div class=\"3edc3863-2f2a-4e90-b5de-38c0b961adb7\" style=\"display: none;\"><div style=\"display: table-cell;\"></div><div style=\"display: table-cell;\">y_range_name&nbsp;=&nbsp;'default')</div></div></div>\n",
       "<script>\n",
       "(function() {\n",
       "  var expanded = false;\n",
       "  var ellipsis = document.getElementById(\"2fdef558-4bfa-4919-9488-5e58348e43fc\");\n",
       "  ellipsis.addEventListener(\"click\", function() {\n",
       "    var rows = document.getElementsByClassName(\"3edc3863-2f2a-4e90-b5de-38c0b961adb7\");\n",
       "    for (var i = 0; i < rows.length; i++) {\n",
       "      var el = rows[i];\n",
       "      el.style.display = expanded ? \"none\" : \"table-row\";\n",
       "    }\n",
       "    ellipsis.innerHTML = expanded ? \"&hellip;)\" : \"&lsaquo;&lsaquo;&lsaquo;\";\n",
       "    expanded = !expanded;\n",
       "  });\n",
       "})();\n",
       "</script>\n"
      ],
      "text/plain": [
       "GlyphRenderer(id='0fd05e41-6da6-4a05-8ef9-3d54c697b9fd', ...)"
      ]
     },
     "execution_count": 29,
     "metadata": {},
     "output_type": "execute_result"
    }
   ],
   "source": [
    "# add circles and source to plot\n",
    "plot.add_glyph(source, circle)"
   ]
  },
  {
   "cell_type": "code",
   "execution_count": 26,
   "metadata": {},
   "outputs": [],
   "source": [
    "# what does it look like now?\n",
    "show(plot)"
   ]
  },
  {
   "cell_type": "markdown",
   "metadata": {},
   "source": [
    "#### Okay, we have our basic map plot! The colors of the circles correspond to comm type and the hover tips display the date and location.\n",
    "(Notice they show multiple values since it's mapping to every row in the dataframe - not ideal but we'll skip over it for now.)\n",
    "#### Now let's add some tools to interactively filter the data"
   ]
  },
  {
   "cell_type": "code",
   "execution_count": 30,
   "metadata": {},
   "outputs": [],
   "source": [
    "# Make a slider object for the hour\n",
    "slider = Slider(start=0, end=23, value=0, step=1, title=\"Time of day\")"
   ]
  },
  {
   "cell_type": "code",
   "execution_count": 31,
   "metadata": {},
   "outputs": [],
   "source": [
    "# Define the callback function - what happens when the slider changes\n",
    "# the plot will only show the data where the hour column matches the hour we select on the slider\n",
    "\n",
    "def callback(attr, old, new):\n",
    "    new_h = slider.value # get the value for hour from the slider\n",
    "    \n",
    "    # set the source data to the original dataset filtered by the new hour\n",
    "    source_data = {\n",
    "             'long'  : data.loc[data['hour']==new_h].long, \n",
    "             'lat'   : data.loc[data['hour']==new_h].lat,\n",
    "             'loc': data.loc[data['hour']==new_h].loc,\n",
    "             'type': data.loc[data['hour']==new_h].type,\n",
    "            'hour': data.loc[data['hour']==new_h].hour,\n",
    "             'date': data.loc[data['hour']==new_h].date\n",
    "    }"
   ]
  },
  {
   "cell_type": "code",
   "execution_count": 32,
   "metadata": {},
   "outputs": [],
   "source": [
    "# Attach the callback to the 'value' property of slider\n",
    "slider.on_change('value', callback)"
   ]
  },
  {
   "cell_type": "code",
   "execution_count": 33,
   "metadata": {},
   "outputs": [],
   "source": [
    "# Make a layout of slider and plot and add it to the current document\n",
    "layout = column(plot, slider)"
   ]
  },
  {
   "cell_type": "code",
   "execution_count": 34,
   "metadata": {},
   "outputs": [
    {
     "name": "stderr",
     "output_type": "stream",
     "text": [
      "W-1004 (BOTH_CHILD_AND_ROOT): Models should not be a document root if they are in a layout box: GMapPlot(id='ef67f24e-3bc7-49db-888f-99c6793e8962', ...)\n"
     ]
    }
   ],
   "source": [
    "show(column(plot, widgetbox(slider)))"
   ]
  },
  {
   "cell_type": "code",
   "execution_count": 35,
   "metadata": {},
   "outputs": [],
   "source": [
    "# make a dropdown object for the date\n",
    "select = Select(\n",
    "    options=['23', '24', '25'], \n",
    "    value='23', title=\"Date\") #sets the default value"
   ]
  },
  {
   "cell_type": "code",
   "execution_count": 36,
   "metadata": {},
   "outputs": [],
   "source": [
    "# define the callback for the dropdown \n",
    "def callback_menu(attr, old, new):\n",
    "    if new == '23': \n",
    "        source.data = {\n",
    "             'long'  : data.loc[data['date']==23].long,\n",
    "             'lat'   : data.loc[data['date']==23].lat,\n",
    "             'loc': data.loc[data['date']==23].loc,\n",
    "            'type': data.loc[data['date']==23].type,\n",
    "            'hour': data.loc[data['date']==23].hour,\n",
    "             'date': data.loc[['date']==23].date\n",
    "        }\n",
    "   \n",
    "    elif new == '24':\n",
    "        source.data = {\n",
    "             'long'  : data.loc[data['date']==24].long,\n",
    "             'lat'   : data.loc[data['date']==24].lat,\n",
    "             'loc': data.loc[data['date']==24].loc,\n",
    "            'type': data.loc[data['date']==24].type,\n",
    "            'hour': data.loc[data['date']==24].hour,\n",
    "             'date': data.loc[['date']==24].date\n",
    "        }\n",
    "        \n",
    "    elif new == '25':\n",
    "        source.data = {\n",
    "             'long'  : data.loc[data['date']==25].long,\n",
    "             'lat'   : data.loc[data['date']==25].lat,\n",
    "             'loc': data.loc[data['date']==25].loc,\n",
    "            'type': data.loc[data['date']==25].type,\n",
    "            'hour': data.loc[data['date']==25].hour,\n",
    "             'date': data.loc[['date']==25].date\n",
    "        }"
   ]
  },
  {
   "cell_type": "code",
   "execution_count": 37,
   "metadata": {},
   "outputs": [],
   "source": [
    "select.on_change('value', callback_menu)"
   ]
  },
  {
   "cell_type": "code",
   "execution_count": 38,
   "metadata": {},
   "outputs": [
    {
     "name": "stderr",
     "output_type": "stream",
     "text": [
      "W-1004 (BOTH_CHILD_AND_ROOT): Models should not be a document root if they are in a layout box: GMapPlot(id='ef67f24e-3bc7-49db-888f-99c6793e8962', ...)\n",
      "W-1004 (BOTH_CHILD_AND_ROOT): Models should not be a document root if they are in a layout box: GMapPlot(id='ef67f24e-3bc7-49db-888f-99c6793e8962', ...)\n"
     ]
    }
   ],
   "source": [
    "# show plot\n",
    "show(column(plot, widgetbox(slider, select)))"
   ]
  },
  {
   "cell_type": "markdown",
   "metadata": {
    "collapsed": true
   },
   "source": [
    "#### Looking good - we have our map, our slider, and our dropdown. \n",
    " *But why isn't anything changing when we move the slider or change the dropdown?*\n",
    "#### This is because the bokeh is designed to run Python scripts on the browser - we have to use the Bokeh Server to tap into the full interactive capabilities."
   ]
  },
  {
   "cell_type": "markdown",
   "metadata": {},
   "source": [
    "From the docs:"
   ]
  },
  {
   "cell_type": "markdown",
   "metadata": {},
   "source": [
    "The architecture of Bokeh is such that high-level “model objects” (representing things like plots, ranges, axes, glyphs, etc.) are created in Python, and then converted to a JSON format that is consumed by the client library, BokehJS. Using the Bokeh Server, it is possible to keep the “model objects” in python and in the browser in sync with one another, creating powerful capabilities:\n",
    "\n",
    "* respond to UI and tool events generated in a browser with computations or queries using the full power of python\n",
    "* automatically push updates the UI (i.e. widgets or plots), in a browser\n",
    "* use periodic, timeout, and asychronous callbacks drive streaming updates\n",
    "\n",
    "***This capability to synchronize between python and the browser is the main purpose of the Bokeh Server.***"
   ]
  },
  {
   "cell_type": "markdown",
   "metadata": {},
   "source": [
    "In order to do this, we would need to finalize the visualization we've created and save it as a python script (here as 'myapp.py'), with any necessary data in the same directory, and then serve it on the bokeh server using the following command:"
   ]
  },
  {
   "cell_type": "markdown",
   "metadata": {
    "collapsed": true
   },
   "source": [
    "```bokeh serve --show myapp.py```"
   ]
  },
  {
   "cell_type": "markdown",
   "metadata": {},
   "source": [
    "#### That's outside the scope of this demo, but you can dive into much, much more depth yourself!"
   ]
  },
  {
   "cell_type": "markdown",
   "metadata": {},
   "source": [
    "Read the docs: https://hub.mybinder.org/user/bokeh-bokeh-notebooks-yefwfcas/notebooks/tutorial/11%20-%20Running%20Bokeh%20Applictions.ipynb"
   ]
  }
 ],
 "metadata": {
  "kernelspec": {
   "display_name": "Python 3",
   "language": "python",
   "name": "python3"
  },
  "language_info": {
   "codemirror_mode": {
    "name": "ipython",
    "version": 3
   },
   "file_extension": ".py",
   "mimetype": "text/x-python",
   "name": "python",
   "nbconvert_exporter": "python",
   "pygments_lexer": "ipython3",
   "version": "3.6.4"
  }
 },
 "nbformat": 4,
 "nbformat_minor": 2
}
